{
  "nbformat": 4,
  "nbformat_minor": 0,
  "metadata": {
    "colab": {
      "name": "Extracting Utterances from LUIS.ipynb",
      "provenance": [],
      "collapsed_sections": [],
      "authorship_tag": "ABX9TyOJaoKMQQ8fcvHm/rx5GzNo",
      "include_colab_link": true
    },
    "kernelspec": {
      "name": "python3",
      "display_name": "Python 3"
    },
    "accelerator": "TPU"
  },
  "cells": [
    {
      "cell_type": "markdown",
      "metadata": {
        "id": "view-in-github",
        "colab_type": "text"
      },
      "source": [
        "<a href=\"https://colab.research.google.com/github/mukundhareddy1996/BLOGS/blob/main/Extracting_Utterances_from_LUIS.ipynb\" target=\"_parent\"><img src=\"https://colab.research.google.com/assets/colab-badge.svg\" alt=\"Open In Colab\"/></a>"
      ]
    },
    {
      "cell_type": "markdown",
      "metadata": {
        "id": "v-DoH8zX78iS"
      },
      "source": [
        "# <font color =orange>Extarcting Utterances of LUIS to Excel file</font>\n",
        "\n",
        "<font color = green> LUIS</font><br>\n",
        "Language Understanding (LUIS) is a cloud-based conversational AI service that applies custom machine-learning intelligence to a user's conversational, natural language text to predict overall meaning, and pull out relevant, detailed information.<br><br>\n",
        "A client application for LUIS is any conversational application that communicates with a user in natural language to complete a task. Examples of client applications include social media apps, AI chatbots, and speech-enabled desktop applications.<br><br>\n",
        "<img src=https://docs.microsoft.com/en-us/azure/cognitive-services/luis/media/luis-overview/luis-entry-point.png><br><br>\n",
        "\n",
        "The Microsft azure will provide a default UI for the Luis, where we can create the Intents, entities, Features.\n",
        "\n",
        "We can trian the required utterances under each intent and tag them to appropriate entitites. \n",
        "\n",
        "In the Real world applications, the intents can vary from 10- 30 and also the utterances are huge. If you want to view all the utterances at a single point in a file, you may need to convert it into an excel file or text file.\n",
        "\n",
        "But when we try to export the entire Luis application, by default we can get any of the following two formats below\n",
        "\n",
        "1.  Export as Json\n",
        "2.  Export as LU \n",
        "\n",
        "<font color = orange>**This Piece of code will help you to extarct all the utterances into a single spread sheet.**</font>"
      ]
    },
    {
      "cell_type": "markdown",
      "metadata": {
        "id": "k3adFsEs2eeP"
      },
      "source": [
        "# <font color = green>Import the Necessary Libraries</font>\n",
        "\n",
        "\n"
      ]
    },
    {
      "cell_type": "code",
      "metadata": {
        "id": "aaN-xk_xQkxn"
      },
      "source": [
        "import pandas as pd\n",
        "import numpy as np\n",
        "import json\n",
        "import os"
      ],
      "execution_count": null,
      "outputs": []
    },
    {
      "cell_type": "markdown",
      "metadata": {
        "id": "mHBFd1BU3c5I"
      },
      "source": [
        "# <font color = blue>Download the Luis File</font>\n",
        "\n",
        "1.   Go to your Luis account\n",
        "2.   By default you will be navigated to the pane of available conversation apps\n",
        "3.   Select the desired by clicking on the left side radio button\n",
        "4.   Top of the same page, you can see the the enabled \"Export\" button \n",
        "5.   Click on the export button and select \"Export as JSON\", it will save in your local\n",
        "6.   Uplaod the same file name here as input \n",
        "\n",
        "\n",
        "\n"
      ]
    },
    {
      "cell_type": "markdown",
      "metadata": {
        "id": "b397RLwS3Fth"
      },
      "source": [
        "# <font color = orange>Check your current working directory</font>\n"
      ]
    },
    {
      "cell_type": "code",
      "metadata": {
        "id": "FPDv0VY2Qqct"
      },
      "source": [
        "# Check your directory \n",
        "print(os.getcwd())"
      ],
      "execution_count": null,
      "outputs": []
    },
    {
      "cell_type": "markdown",
      "metadata": {
        "id": "FGUS9RGU7VMD"
      },
      "source": [
        "<font color = green>Place the luis.json file in the above directory and the give the same filename as input</font>"
      ]
    },
    {
      "cell_type": "code",
      "metadata": {
        "id": "eXVEmIItRFNF"
      },
      "source": [
        "with open(\"<<your file name here >>\") as json_data:\n",
        "    data = json.load(json_data)"
      ],
      "execution_count": null,
      "outputs": []
    },
    {
      "cell_type": "markdown",
      "metadata": {
        "id": "0rjgaUjZ2dni"
      },
      "source": [
        "<font color =green>Check all the availble Keys of the luis.json file</font>"
      ]
    },
    {
      "cell_type": "code",
      "metadata": {
        "id": "_uydleGWRI_6"
      },
      "source": [
        "for i in data.keys():\n",
        "  print(i)"
      ],
      "execution_count": null,
      "outputs": []
    },
    {
      "cell_type": "markdown",
      "metadata": {
        "id": "iR3fhyQn7hhE"
      },
      "source": [
        "*here we are intrested in storing the utterances and features alone.*\n",
        "<font color = green>\n",
        "\n",
        "1.   Convert utterances and phrase_list to excel\n",
        "2.   You can also add the reaming fields you wish to see in spread sheet </font>\n",
        "\n"
      ]
    },
    {
      "cell_type": "code",
      "metadata": {
        "id": "v3UT4IjtRtAo"
      },
      "source": [
        "#  convert utterances and phrase_list to excel, here we are intrested in storing the utterances and features alone\n",
        "utterances = pd.DataFrame(data['utterances'])\n",
        "phrase_list = pd.DataFrame(data['phraselists'])"
      ],
      "execution_count": null,
      "outputs": []
    },
    {
      "cell_type": "markdown",
      "metadata": {
        "id": "yiafkZxw7nXL"
      },
      "source": [
        "# <font color = Orange>Save the utterances as excel</font>"
      ]
    },
    {
      "cell_type": "code",
      "metadata": {
        "id": "mW0ZeDcySrQw"
      },
      "source": [
        "# Write it in to output file\n",
        "with pd.ExcelWriter('outputFilename.xlsx')as writer:\n",
        "# writer = pd.ExcelWriter('PlanIt_Luis.xlsx')\n",
        "    utterances.to_excel(writer,sheet_name=\"Utterances\")\n",
        "    phrase_list.to_excel(writer,sheet_name=\"Features\")\n",
        "writer.save()\n"
      ],
      "execution_count": null,
      "outputs": []
    }
  ]
}