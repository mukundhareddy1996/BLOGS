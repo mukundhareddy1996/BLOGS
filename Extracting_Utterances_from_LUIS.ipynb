{
  "nbformat": 4,
  "nbformat_minor": 0,
  "metadata": {
    "colab": {
      "name": "Extracting Utterances from LUIS.ipynb",
      "provenance": [],
      "collapsed_sections": [],
      "toc_visible": true,
      "authorship_tag": "ABX9TyOrFQQ+3KssMdEb8imBj/aj",
      "include_colab_link": true
    },
    "kernelspec": {
      "name": "python3",
      "display_name": "Python 3"
    },
    "accelerator": "TPU"
  },
  "cells": [
    {
      "cell_type": "markdown",
      "metadata": {
        "id": "view-in-github",
        "colab_type": "text"
      },
      "source": [
        "<a href=\"https://colab.research.google.com/github/mukundhareddy1996/BLOGS/blob/main/Extracting_Utterances_from_LUIS.ipynb\" target=\"_parent\"><img src=\"https://colab.research.google.com/assets/colab-badge.svg\" alt=\"Open In Colab\"/></a>"
      ]
    },
    {
      "cell_type": "markdown",
      "metadata": {
        "id": "v-DoH8zX78iS"
      },
      "source": [
        "# <font color =orange>Extarcting Utterances of LUIS to Excel file</font>\n",
        "\n",
        "<font color = green> LUIS</font><br>\n",
        "Language Understanding (LUIS) is a cloud-based conversational AI service that applies custom machine-learning intelligence to a user's conversational, natural language text to predict overall meaning, and pull out relevant, detailed information.<br><br>\n",
        "A client application for LUIS is any conversational application that communicates with a user in natural language to complete a task. Examples of client applications include social media apps, AI chatbots, and speech-enabled desktop applications.<br><br>\n",
        "<img src=https://docs.microsoft.com/en-us/azure/cognitive-services/luis/media/luis-overview/luis-entry-point.png><br><br>\n",
        "\n",
        "The Microsft azure will provide a default UI for the Luis, where we can create the Intents, entities, Features.\n",
        "\n",
        "We can trian the required utterances under each intent and tag them to appropriate entitites. \n",
        "\n",
        "In the Real world applications, the intents can vary from 10- 30 and also the utterances are huge. If you want to view all the utterances at a single point in a file, you may need to convert it into an excel file or text file.\n",
        "\n",
        "But when we try to export the entire Luis application, by default we can get any of the following two formats below\n",
        "\n",
        "1.  Export as Json\n",
        "2.  Export as LU \n",
        "\n",
        "<font color = orange>**This Piece of code will help you to extarct all the utterances into a single spread sheet.**</font>"
      ]
    },
    {
      "cell_type": "markdown",
      "metadata": {
        "id": "k3adFsEs2eeP"
      },
      "source": [
        "# <font color = green>Import the Necessary Libraries</font>\n",
        "\n",
        "\n"
      ]
    },
    {
      "cell_type": "code",
      "metadata": {
        "id": "aaN-xk_xQkxn"
      },
      "source": [
        "import pandas as pd\n",
        "import numpy as np\n",
        "import json\n",
        "import os"
      ],
      "execution_count": 3,
      "outputs": []
    },
    {
      "cell_type": "markdown",
      "metadata": {
        "id": "mHBFd1BU3c5I"
      },
      "source": [
        "# <font color = blue>Download the Luis File</font>\n",
        "\n",
        "1.   Go to your Luis account\n",
        "2.   By default you will be navigated to the pane of available conversation apps\n",
        "3.   Select the desired by clicking on the left side radio button\n",
        "4.   Top of the same page, you can see the the enabled \"Export\" button \n",
        "5.   Click on the export button and select \"Export as JSON\", it will save in your local\n",
        "6.   Uplaod the same file name here as input \n",
        "\n",
        "\n",
        "\n"
      ]
    },
    {
      "cell_type": "markdown",
      "metadata": {
        "id": "b397RLwS3Fth"
      },
      "source": [
        "# <font color = orange>Check your current working directory</font>\n"
      ]
    },
    {
      "cell_type": "code",
      "metadata": {
        "id": "FPDv0VY2Qqct",
        "outputId": "7ec75b6c-09ae-42e9-8ca3-691506181611",
        "colab": {
          "base_uri": "https://localhost:8080/"
        }
      },
      "source": [
        "# Check your directory \n",
        "print(os.getcwd())"
      ],
      "execution_count": 4,
      "outputs": [
        {
          "output_type": "stream",
          "text": [
            "/content\n"
          ],
          "name": "stdout"
        }
      ]
    },
    {
      "cell_type": "markdown",
      "metadata": {
        "id": "FGUS9RGU7VMD"
      },
      "source": [
        "# <font color = green>Place the luis.json file in the above directory and the give the same filename as input</font>"
      ]
    },
    {
      "cell_type": "code",
      "metadata": {
        "id": "eXVEmIItRFNF",
        "outputId": "8a0bed46-50dd-4d42-8fb5-19949328679d",
        "colab": {
          "base_uri": "https://localhost:8080/",
          "height": 195
        }
      },
      "source": [
        "with open(\"<<your file name here >>\") as json_data:\n",
        "    data = json.load(json_data)"
      ],
      "execution_count": 5,
      "outputs": [
        {
          "output_type": "error",
          "ename": "FileNotFoundError",
          "evalue": "ignored",
          "traceback": [
            "\u001b[0;31m---------------------------------------------------------------------------\u001b[0m",
            "\u001b[0;31mFileNotFoundError\u001b[0m                         Traceback (most recent call last)",
            "\u001b[0;32m<ipython-input-5-8ebcfb826880>\u001b[0m in \u001b[0;36m<module>\u001b[0;34m()\u001b[0m\n\u001b[1;32m      1\u001b[0m \u001b[0;34m\u001b[0m\u001b[0m\n\u001b[0;32m----> 2\u001b[0;31m \u001b[0;32mwith\u001b[0m \u001b[0mopen\u001b[0m\u001b[0;34m(\u001b[0m\u001b[0;34m\"<<your file name here >>\"\u001b[0m\u001b[0;34m)\u001b[0m \u001b[0;32mas\u001b[0m \u001b[0mjson_data\u001b[0m\u001b[0;34m:\u001b[0m\u001b[0;34m\u001b[0m\u001b[0;34m\u001b[0m\u001b[0m\n\u001b[0m\u001b[1;32m      3\u001b[0m     \u001b[0mdata\u001b[0m \u001b[0;34m=\u001b[0m \u001b[0mjson\u001b[0m\u001b[0;34m.\u001b[0m\u001b[0mload\u001b[0m\u001b[0;34m(\u001b[0m\u001b[0mjson_data\u001b[0m\u001b[0;34m)\u001b[0m\u001b[0;34m\u001b[0m\u001b[0;34m\u001b[0m\u001b[0m\n",
            "\u001b[0;31mFileNotFoundError\u001b[0m: [Errno 2] No such file or directory: '<<your file name here >>'"
          ]
        }
      ]
    },
    {
      "cell_type": "markdown",
      "metadata": {
        "id": "0rjgaUjZ2dni"
      },
      "source": [
        "<font color =green>Check all the availble Keys of the luis.json file</font>"
      ]
    },
    {
      "cell_type": "code",
      "metadata": {
        "id": "_uydleGWRI_6",
        "outputId": "9044cbfc-fc39-476b-fc31-eae309a77671",
        "colab": {
          "base_uri": "https://localhost:8080/",
          "height": 178
        }
      },
      "source": [
        "for i in data.keys():\n",
        "  print(i)"
      ],
      "execution_count": 6,
      "outputs": [
        {
          "output_type": "error",
          "ename": "NameError",
          "evalue": "ignored",
          "traceback": [
            "\u001b[0;31m---------------------------------------------------------------------------\u001b[0m",
            "\u001b[0;31mNameError\u001b[0m                                 Traceback (most recent call last)",
            "\u001b[0;32m<ipython-input-6-1040d64d0770>\u001b[0m in \u001b[0;36m<module>\u001b[0;34m()\u001b[0m\n\u001b[0;32m----> 1\u001b[0;31m \u001b[0;32mfor\u001b[0m \u001b[0mi\u001b[0m \u001b[0;32min\u001b[0m \u001b[0mdata\u001b[0m\u001b[0;34m.\u001b[0m\u001b[0mkeys\u001b[0m\u001b[0;34m(\u001b[0m\u001b[0;34m)\u001b[0m\u001b[0;34m:\u001b[0m\u001b[0;34m\u001b[0m\u001b[0;34m\u001b[0m\u001b[0m\n\u001b[0m\u001b[1;32m      2\u001b[0m   \u001b[0mprint\u001b[0m\u001b[0;34m(\u001b[0m\u001b[0mi\u001b[0m\u001b[0;34m)\u001b[0m\u001b[0;34m\u001b[0m\u001b[0;34m\u001b[0m\u001b[0m\n",
            "\u001b[0;31mNameError\u001b[0m: name 'data' is not defined"
          ]
        }
      ]
    },
    {
      "cell_type": "markdown",
      "metadata": {
        "id": "iR3fhyQn7hhE"
      },
      "source": [
        "*here we are intrested in storing the utterances and features alone.*\n",
        "<font color = green>\n",
        "\n",
        "1.   Convert utterances and phrase_list to excel\n",
        "2.   You can also add the reaming fields you wish to see in spread sheet </font>\n",
        "\n"
      ]
    },
    {
      "cell_type": "code",
      "metadata": {
        "id": "v3UT4IjtRtAo"
      },
      "source": [
        "#  convert utterances and phrase_list to excel, here we are intrested in storing the utterances and features alone\n",
        "utterances = pd.DataFrame(data['utterances'])\n",
        "phrase_list = pd.DataFrame(data['phraselists'])"
      ],
      "execution_count": null,
      "outputs": []
    },
    {
      "cell_type": "markdown",
      "metadata": {
        "id": "yiafkZxw7nXL"
      },
      "source": [
        "# <font color = Orange>Save the utterances as excel</font>"
      ]
    },
    {
      "cell_type": "code",
      "metadata": {
        "id": "mW0ZeDcySrQw"
      },
      "source": [
        "# Write it in to output file\n",
        "with pd.ExcelWriter('outputFilename.xlsx')as writer:\n",
        "# writer = pd.ExcelWriter('PlanIt_Luis.xlsx')\n",
        "    utterances.to_excel(writer,sheet_name=\"Utterances\")\n",
        "    phrase_list.to_excel(writer,sheet_name=\"Features\")\n",
        "writer.save()\n"
      ],
      "execution_count": null,
      "outputs": []
    }
  ]
}