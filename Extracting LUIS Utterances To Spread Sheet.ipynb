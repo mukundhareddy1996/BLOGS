{
 "cells": [
  {
   "cell_type": "markdown",
   "metadata": {},
   "source": [
    "# <font color =orange>Extarcting LUIS Utterances To Spread Sheet</font>\n",
    "\n",
    "<font color = green>LUIS</font><br>\n",
    "Language Understanding (LUIS) is a cloud-based conversational AI service that applies custom machine-learning intelligence to a user's conversational, natural language text to predict overall meaning, and pull out relevant, detailed information.<br><br>\n",
    "A client application for LUIS is any conversational application that communicates with a user in natural language to complete a task. Examples of client applications include social media apps, AI chatbots, and speech-enabled desktop applications.<br><br>\n",
    "<img src=https://docs.microsoft.com/en-us/azure/cognitive-services/luis/media/luis-overview/luis-entry-point.png><br><br>\n",
    "\n",
    "The Microsft azure will provide a default UI for the Luis, where we can create the Intents, entities, Features.\n",
    "\n",
    "We can trian the required utterances under each intent and tag them to appropriate entitites. \n",
    "\n",
    "In the Real world applications, the intents can vary from 10- 30 and also the utterances are huge. If you want to view all the utterances at a single point in a file, you may need to convert it into an excel file or text file.\n",
    "\n",
    "But when we try to export the entire Luis application, by default we can get any of the following two formats below\n",
    "\n",
    "1.  Export as Json\n",
    "2.  Export as LU \n",
    "\n",
    "<font color = blue>**This Piece of code will help you to extarct all the utterances into a single spread sheet.**</font>"
   ]
  },
  {
   "cell_type": "markdown",
   "metadata": {},
   "source": [
    "# <font color = Orange>Import the Necessary Libraries</font>"
   ]
  },
  {
   "cell_type": "code",
   "execution_count": null,
   "metadata": {},
   "outputs": [],
   "source": [
    "import pandas as pd\n",
    "import numpy as np\n",
    "import json\n",
    "import os"
   ]
  },
  {
   "cell_type": "markdown",
   "metadata": {},
   "source": [
    "# <font color = Orange>Download the Luis File</font>\n",
    "\n",
    "1.   Go to your Luis account\n",
    "2.   By default you will be navigated to the pane of available conversation apps\n",
    "3.   Select the desired by clicking on the left side radio button\n",
    "4.   Top of the same page, you can see the the enabled \"Export\" button \n",
    "5.   Click on the export button and select \"Export as JSON\", it will save in your local\n",
    "6.   Uplaod the same file name here as input "
   ]
  },
  {
   "cell_type": "markdown",
   "metadata": {},
   "source": [
    "# <font color = orange>Check your current working directory</font>"
   ]
  },
  {
   "cell_type": "code",
   "execution_count": null,
   "metadata": {},
   "outputs": [],
   "source": [
    "print(os.getcwd())"
   ]
  },
  {
   "cell_type": "markdown",
   "metadata": {},
   "source": [
    "<font color = green>Place the luis.json file in the above directory and the give the same filename as input</font>"
   ]
  },
  {
   "cell_type": "code",
   "execution_count": null,
   "metadata": {},
   "outputs": [],
   "source": [
    "with open(\"<<your file name here >>\") as json_data:\n",
    "    data = json.load(json_data)\n",
    "\n",
    "# we are Conerting the json into a dictionary "
   ]
  },
  {
   "cell_type": "markdown",
   "metadata": {},
   "source": [
    "<font color =green>Check all the availble Keys of the data(Luis.json) dictionary</font>"
   ]
  },
  {
   "cell_type": "code",
   "execution_count": null,
   "metadata": {},
   "outputs": [],
   "source": [
    "for i in data.keys():\n",
    "  print(i)"
   ]
  },
  {
   "cell_type": "markdown",
   "metadata": {},
   "source": [
    "<font color = orange>*here we are intrested in storing the utterances and features alone.*</font>\n",
    "<font color = green>\n",
    "\n",
    "1.   Convert utterances and phrase_list to excel\n",
    "2.   You can also add the reaming fields you wish to see in spread sheet </font>"
   ]
  },
  {
   "cell_type": "code",
   "execution_count": null,
   "metadata": {},
   "outputs": [],
   "source": [
    "utterances = pd.DataFrame(data['utterances'])\n",
    "phrase_list = pd.DataFrame(data['phraselists'])"
   ]
  },
  {
   "cell_type": "markdown",
   "metadata": {},
   "source": [
    "# <font color = Orange>Save the utterances into excel</font>"
   ]
  },
  {
   "cell_type": "code",
   "execution_count": null,
   "metadata": {},
   "outputs": [],
   "source": [
    "with pd.ExcelWriter('outputFilename.xlsx')as writer:\n",
    "    utterances.to_excel(writer,sheet_name=\"Utterances\")\n",
    "    phrase_list.to_excel(writer,sheet_name=\"Features\")\n",
    "writer.save()"
   ]
  }
 ],
 "metadata": {
  "kernelspec": {
   "display_name": "Python 3",
   "language": "python",
   "name": "python3"
  },
  "language_info": {
   "codemirror_mode": {
    "name": "ipython",
    "version": 3
   },
   "file_extension": ".py",
   "mimetype": "text/x-python",
   "name": "python",
   "nbconvert_exporter": "python",
   "pygments_lexer": "ipython3",
   "version": "3.7.0"
  }
 },
 "nbformat": 4,
 "nbformat_minor": 4
}
